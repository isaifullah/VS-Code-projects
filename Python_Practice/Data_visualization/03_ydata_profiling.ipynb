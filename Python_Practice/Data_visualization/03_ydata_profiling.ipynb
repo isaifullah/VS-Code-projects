{
 "cells": [
  {
   "cell_type": "markdown",
   "metadata": {},
   "source": [
    "# Automatic EDA using `ydata_profiling`"
   ]
  },
  {
   "cell_type": "code",
   "execution_count": 1,
   "metadata": {},
   "outputs": [
    {
     "name": "stdout",
     "output_type": "stream",
     "text": [
      "Requirement already satisfied: ydata_profiling in c:\\users\\saif ullah\\miniconda3\\envs\\python_eda\\lib\\site-packages (4.17.0)\n",
      "Requirement already satisfied: scipy<1.16,>=1.4.1 in c:\\users\\saif ullah\\miniconda3\\envs\\python_eda\\lib\\site-packages (from ydata_profiling) (1.15.3)\n",
      "Requirement already satisfied: pandas!=1.4.0,<3.0,>1.1 in c:\\users\\saif ullah\\miniconda3\\envs\\python_eda\\lib\\site-packages (from ydata_profiling) (2.3.2)\n",
      "Requirement already satisfied: matplotlib<=3.10,>=3.5 in c:\\users\\saif ullah\\miniconda3\\envs\\python_eda\\lib\\site-packages (from ydata_profiling) (3.10.0)\n",
      "Requirement already satisfied: pydantic>=2 in c:\\users\\saif ullah\\miniconda3\\envs\\python_eda\\lib\\site-packages (from ydata_profiling) (2.11.9)\n",
      "Requirement already satisfied: PyYAML<6.1,>=5.0.0 in c:\\users\\saif ullah\\miniconda3\\envs\\python_eda\\lib\\site-packages (from ydata_profiling) (6.0.3)\n",
      "Requirement already satisfied: jinja2<3.2,>=2.11.1 in c:\\users\\saif ullah\\miniconda3\\envs\\python_eda\\lib\\site-packages (from ydata_profiling) (3.1.6)\n",
      "Requirement already satisfied: visions<0.8.2,>=0.7.5 in c:\\users\\saif ullah\\miniconda3\\envs\\python_eda\\lib\\site-packages (from visions[type_image_path]<0.8.2,>=0.7.5->ydata_profiling) (0.8.1)\n",
      "Requirement already satisfied: numpy<2.2,>=1.16.0 in c:\\users\\saif ullah\\miniconda3\\envs\\python_eda\\lib\\site-packages (from ydata_profiling) (2.1.3)\n",
      "Requirement already satisfied: minify-html>=0.15.0 in c:\\users\\saif ullah\\miniconda3\\envs\\python_eda\\lib\\site-packages (from ydata_profiling) (0.16.4)\n",
      "Requirement already satisfied: filetype>=1.0.0 in c:\\users\\saif ullah\\miniconda3\\envs\\python_eda\\lib\\site-packages (from ydata_profiling) (1.2.0)\n",
      "Requirement already satisfied: phik<0.13,>=0.11.1 in c:\\users\\saif ullah\\miniconda3\\envs\\python_eda\\lib\\site-packages (from ydata_profiling) (0.12.5)\n",
      "Requirement already satisfied: requests<3,>=2.24.0 in c:\\users\\saif ullah\\miniconda3\\envs\\python_eda\\lib\\site-packages (from ydata_profiling) (2.32.5)\n",
      "Requirement already satisfied: tqdm<5,>=4.48.2 in c:\\users\\saif ullah\\miniconda3\\envs\\python_eda\\lib\\site-packages (from ydata_profiling) (4.67.1)\n",
      "Requirement already satisfied: seaborn<0.14,>=0.10.1 in c:\\users\\saif ullah\\miniconda3\\envs\\python_eda\\lib\\site-packages (from ydata_profiling) (0.13.2)\n",
      "Requirement already satisfied: multimethod<2,>=1.4 in c:\\users\\saif ullah\\miniconda3\\envs\\python_eda\\lib\\site-packages (from ydata_profiling) (1.12)\n",
      "Requirement already satisfied: statsmodels<1,>=0.13.2 in c:\\users\\saif ullah\\miniconda3\\envs\\python_eda\\lib\\site-packages (from ydata_profiling) (0.14.5)\n",
      "Requirement already satisfied: typeguard<5,>=3 in c:\\users\\saif ullah\\miniconda3\\envs\\python_eda\\lib\\site-packages (from ydata_profiling) (4.4.4)\n",
      "Requirement already satisfied: imagehash==4.3.1 in c:\\users\\saif ullah\\miniconda3\\envs\\python_eda\\lib\\site-packages (from ydata_profiling) (4.3.1)\n",
      "Requirement already satisfied: wordcloud>=1.9.3 in c:\\users\\saif ullah\\miniconda3\\envs\\python_eda\\lib\\site-packages (from ydata_profiling) (1.9.4)\n",
      "Requirement already satisfied: dacite>=1.8 in c:\\users\\saif ullah\\miniconda3\\envs\\python_eda\\lib\\site-packages (from ydata_profiling) (1.9.2)\n",
      "Requirement already satisfied: numba<=0.61,>=0.56.0 in c:\\users\\saif ullah\\miniconda3\\envs\\python_eda\\lib\\site-packages (from ydata_profiling) (0.61.0)\n",
      "Requirement already satisfied: PyWavelets in c:\\users\\saif ullah\\miniconda3\\envs\\python_eda\\lib\\site-packages (from imagehash==4.3.1->ydata_profiling) (1.9.0)\n",
      "Requirement already satisfied: pillow in c:\\users\\saif ullah\\miniconda3\\envs\\python_eda\\lib\\site-packages (from imagehash==4.3.1->ydata_profiling) (11.1.0)\n",
      "Requirement already satisfied: MarkupSafe>=2.0 in c:\\users\\saif ullah\\miniconda3\\envs\\python_eda\\lib\\site-packages (from jinja2<3.2,>=2.11.1->ydata_profiling) (3.0.3)\n",
      "Requirement already satisfied: contourpy>=1.0.1 in c:\\users\\saif ullah\\miniconda3\\envs\\python_eda\\lib\\site-packages (from matplotlib<=3.10,>=3.5->ydata_profiling) (1.3.1)\n",
      "Requirement already satisfied: cycler>=0.10 in c:\\users\\saif ullah\\miniconda3\\envs\\python_eda\\lib\\site-packages (from matplotlib<=3.10,>=3.5->ydata_profiling) (0.11.0)\n",
      "Requirement already satisfied: fonttools>=4.22.0 in c:\\users\\saif ullah\\miniconda3\\envs\\python_eda\\lib\\site-packages (from matplotlib<=3.10,>=3.5->ydata_profiling) (4.55.3)\n",
      "Requirement already satisfied: kiwisolver>=1.3.1 in c:\\users\\saif ullah\\miniconda3\\envs\\python_eda\\lib\\site-packages (from matplotlib<=3.10,>=3.5->ydata_profiling) (1.4.8)\n",
      "Requirement already satisfied: packaging>=20.0 in c:\\users\\saif ullah\\miniconda3\\envs\\python_eda\\lib\\site-packages (from matplotlib<=3.10,>=3.5->ydata_profiling) (25.0)\n",
      "Requirement already satisfied: pyparsing>=2.3.1 in c:\\users\\saif ullah\\miniconda3\\envs\\python_eda\\lib\\site-packages (from matplotlib<=3.10,>=3.5->ydata_profiling) (3.2.0)\n",
      "Requirement already satisfied: python-dateutil>=2.7 in c:\\users\\saif ullah\\miniconda3\\envs\\python_eda\\lib\\site-packages (from matplotlib<=3.10,>=3.5->ydata_profiling) (2.9.0.post0)\n",
      "Requirement already satisfied: llvmlite<0.45,>=0.44.0dev0 in c:\\users\\saif ullah\\miniconda3\\envs\\python_eda\\lib\\site-packages (from numba<=0.61,>=0.56.0->ydata_profiling) (0.44.0)\n",
      "Requirement already satisfied: pytz>=2020.1 in c:\\users\\saif ullah\\miniconda3\\envs\\python_eda\\lib\\site-packages (from pandas!=1.4.0,<3.0,>1.1->ydata_profiling) (2025.2)\n",
      "Requirement already satisfied: tzdata>=2022.7 in c:\\users\\saif ullah\\miniconda3\\envs\\python_eda\\lib\\site-packages (from pandas!=1.4.0,<3.0,>1.1->ydata_profiling) (2025.2)\n",
      "Requirement already satisfied: joblib>=0.14.1 in c:\\users\\saif ullah\\miniconda3\\envs\\python_eda\\lib\\site-packages (from phik<0.13,>=0.11.1->ydata_profiling) (1.5.2)\n",
      "Requirement already satisfied: charset_normalizer<4,>=2 in c:\\users\\saif ullah\\miniconda3\\envs\\python_eda\\lib\\site-packages (from requests<3,>=2.24.0->ydata_profiling) (3.4.3)\n",
      "Requirement already satisfied: idna<4,>=2.5 in c:\\users\\saif ullah\\miniconda3\\envs\\python_eda\\lib\\site-packages (from requests<3,>=2.24.0->ydata_profiling) (3.10)\n",
      "Requirement already satisfied: urllib3<3,>=1.21.1 in c:\\users\\saif ullah\\miniconda3\\envs\\python_eda\\lib\\site-packages (from requests<3,>=2.24.0->ydata_profiling) (2.5.0)\n",
      "Requirement already satisfied: certifi>=2017.4.17 in c:\\users\\saif ullah\\miniconda3\\envs\\python_eda\\lib\\site-packages (from requests<3,>=2.24.0->ydata_profiling) (2025.8.3)\n",
      "Requirement already satisfied: patsy>=0.5.6 in c:\\users\\saif ullah\\miniconda3\\envs\\python_eda\\lib\\site-packages (from statsmodels<1,>=0.13.2->ydata_profiling) (1.0.1)\n",
      "Requirement already satisfied: colorama in c:\\users\\saif ullah\\miniconda3\\envs\\python_eda\\lib\\site-packages (from tqdm<5,>=4.48.2->ydata_profiling) (0.4.6)\n",
      "Requirement already satisfied: typing_extensions>=4.14.0 in c:\\users\\saif ullah\\miniconda3\\envs\\python_eda\\lib\\site-packages (from typeguard<5,>=3->ydata_profiling) (4.15.0)\n",
      "Requirement already satisfied: attrs>=19.3.0 in c:\\users\\saif ullah\\miniconda3\\envs\\python_eda\\lib\\site-packages (from visions<0.8.2,>=0.7.5->visions[type_image_path]<0.8.2,>=0.7.5->ydata_profiling) (25.3.0)\n",
      "Requirement already satisfied: networkx>=2.4 in c:\\users\\saif ullah\\miniconda3\\envs\\python_eda\\lib\\site-packages (from visions<0.8.2,>=0.7.5->visions[type_image_path]<0.8.2,>=0.7.5->ydata_profiling) (3.5)\n",
      "Requirement already satisfied: puremagic in c:\\users\\saif ullah\\miniconda3\\envs\\python_eda\\lib\\site-packages (from visions<0.8.2,>=0.7.5->visions[type_image_path]<0.8.2,>=0.7.5->ydata_profiling) (1.30)\n",
      "Requirement already satisfied: annotated-types>=0.6.0 in c:\\users\\saif ullah\\miniconda3\\envs\\python_eda\\lib\\site-packages (from pydantic>=2->ydata_profiling) (0.7.0)\n",
      "Requirement already satisfied: pydantic-core==2.33.2 in c:\\users\\saif ullah\\miniconda3\\envs\\python_eda\\lib\\site-packages (from pydantic>=2->ydata_profiling) (2.33.2)\n",
      "Requirement already satisfied: typing-inspection>=0.4.0 in c:\\users\\saif ullah\\miniconda3\\envs\\python_eda\\lib\\site-packages (from pydantic>=2->ydata_profiling) (0.4.2)\n",
      "Requirement already satisfied: six>=1.5 in c:\\users\\saif ullah\\miniconda3\\envs\\python_eda\\lib\\site-packages (from python-dateutil>=2.7->matplotlib<=3.10,>=3.5->ydata_profiling) (1.17.0)\n",
      "Note: you may need to restart the kernel to use updated packages.\n"
     ]
    }
   ],
   "source": [
    "pip install ydata_profiling"
   ]
  },
  {
   "cell_type": "code",
   "execution_count": 2,
   "metadata": {},
   "outputs": [
    {
     "name": "stdout",
     "output_type": "stream",
     "text": [
      "Note: you may need to restart the kernel to use updated packages.\n"
     ]
    },
    {
     "name": "stderr",
     "output_type": "stream",
     "text": [
      "ERROR: Invalid requirement: '_pocketfft_umath': Expected package name at the start of dependency specifier\n",
      "    _pocketfft_umath\n",
      "    ^\n"
     ]
    }
   ],
   "source": [
    "pip install _pocketfft_umath"
   ]
  },
  {
   "cell_type": "code",
   "execution_count": 3,
   "metadata": {},
   "outputs": [
    {
     "name": "stderr",
     "output_type": "stream",
     "text": [
      "c:\\Users\\Saif Ullah\\miniconda3\\envs\\python_eda\\Lib\\site-packages\\tqdm\\auto.py:21: TqdmWarning: IProgress not found. Please update jupyter and ipywidgets. See https://ipywidgets.readthedocs.io/en/stable/user_install.html\n",
      "  from .autonotebook import tqdm as notebook_tqdm\n"
     ]
    },
    {
     "data": {
      "text/html": [
       "\n",
       "            <div>\n",
       "                <ins><a href=\"https://ydata.ai/register\">Upgrade to ydata-sdk</a></ins>\n",
       "                <p>\n",
       "                    Improve your data and profiling with ydata-sdk, featuring data quality scoring, redundancy detection, outlier identification, text validation, and synthetic data generation.\n",
       "                </p>\n",
       "            </div>\n",
       "            "
      ],
      "text/plain": [
       "<IPython.core.display.HTML object>"
      ]
     },
     "metadata": {},
     "output_type": "display_data"
    }
   ],
   "source": [
    "# improt libraries\n",
    "import pandas as pd\n",
    "import seaborn as sns\n",
    "import ydata_profiling as yd"
   ]
  },
  {
   "cell_type": "code",
   "execution_count": 4,
   "metadata": {},
   "outputs": [],
   "source": [
    "# import data from seaborn\n",
    "df = sns.load_dataset('titanic')"
   ]
  },
  {
   "cell_type": "code",
   "execution_count": 6,
   "metadata": {},
   "outputs": [
    {
     "name": "stderr",
     "output_type": "stream",
     "text": [
      "100%|██████████| 15/15 [00:00<00:00, 466.38it/s]00:00, 49.44it/s, Describe variable: alone]\n",
      "Summarize dataset: 100%|██████████| 41/41 [00:02<00:00, 15.54it/s, Completed]                 \n",
      "Generate report structure: 100%|██████████| 1/1 [00:02<00:00,  2.22s/it]\n",
      "Render HTML: 100%|██████████| 1/1 [00:00<00:00,  5.34it/s]\n",
      "Export report to file: 100%|██████████| 1/1 [00:00<00:00, 83.00it/s]\n"
     ]
    }
   ],
   "source": [
    "# ydata profile report\n",
    "profile = yd.ProfileReport(df)\n",
    "profile.to_file(output_file='03_ydata_titanic.html')"
   ]
  },
  {
   "cell_type": "markdown",
   "metadata": {},
   "source": [
    "# Do it on our Pak Polulation Dataset"
   ]
  },
  {
   "cell_type": "code",
   "execution_count": 9,
   "metadata": {},
   "outputs": [],
   "source": [
    "df_pop = pd.read_csv(\"population_pakistan.csv\")"
   ]
  },
  {
   "cell_type": "code",
   "execution_count": 11,
   "metadata": {},
   "outputs": [
    {
     "name": "stderr",
     "output_type": "stream",
     "text": [
      "100%|██████████| 21/21 [00:00<00:00, 6178.04it/s]00:00, 50.09it/s, Describe variable: ANNUAL GROWTH RATE (URBAN)]\n",
      "Summarize dataset: 100%|██████████| 319/319 [00:28<00:00, 11.29it/s, Completed]                                                     \n",
      "Generate report structure: 100%|██████████| 1/1 [00:05<00:00,  5.72s/it]\n",
      "Render HTML: 100%|██████████| 1/1 [00:01<00:00,  1.27s/it]\n",
      "Export report to file: 100%|██████████| 1/1 [00:00<00:00,  7.19it/s]\n"
     ]
    }
   ],
   "source": [
    "# ydata profile report\n",
    "profile = yd.ProfileReport(df_pop)\n",
    "profile.to_file(output_file='03b_ydata_pak_poluation.html')"
   ]
  }
 ],
 "metadata": {
  "kernelspec": {
   "display_name": "python_eda",
   "language": "python",
   "name": "python3"
  },
  "language_info": {
   "codemirror_mode": {
    "name": "ipython",
    "version": 3
   },
   "file_extension": ".py",
   "mimetype": "text/x-python",
   "name": "python",
   "nbconvert_exporter": "python",
   "pygments_lexer": "ipython3",
   "version": "3.13.7"
  }
 },
 "nbformat": 4,
 "nbformat_minor": 2
}
